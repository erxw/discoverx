{
 "cells": [
  {
   "cell_type": "markdown",
   "id": "dbbdd2ff-4c50-4e46-9c4c-e0cbc11d0af9",
   "metadata": {},
   "source": [
    "# Webscraping the GuideToPharmacology website\n",
    "\n",
    "## Output data\n",
    "\n",
    "1. edgelist.pickle -> (ligand_id, receptor_id). Size: [21569, 2]\n",
    "2. receptor_sequences.pickle -> (receptor_id, aa). Size: [752]\n",
    "3. smiles.pickle -> (ligand_id, smiles). Size: [2825]\n",
    "4. aa.pickle -> (ligand_id, aa). Size: [1240]"
   ]
  },
  {
   "cell_type": "code",
   "execution_count": 1,
   "id": "1dcd6379-608a-433e-ac3e-691fa58842c5",
   "metadata": {},
   "outputs": [],
   "source": [
    "from bs4 import BeautifulSoup\n",
    "import numpy as np\n",
    "import os\n",
    "import requests\n",
    "import yaml\n",
    "import pandas as pd\n",
    "from tqdm import tqdm\n",
    "import pickle\n",
    "import re"
   ]
  },
  {
   "cell_type": "code",
   "execution_count": 818,
   "id": "74fe2b7d-23f3-4d63-911f-418626526681",
   "metadata": {},
   "outputs": [],
   "source": [
    "yaml_file = 'GuideToPharmacology.yml'\n",
    "\n",
    "catalog = yaml.safe_load(open(yaml_file, 'r'))\n",
    "base = catalog['base']\n",
    "urls = catalog['urls']"
   ]
  },
  {
   "cell_type": "markdown",
   "id": "da7de923-f063-4a34-9f2e-8d24c9f9b469",
   "metadata": {},
   "source": [
    "## Landing page -> get Receptor names and links"
   ]
  },
  {
   "cell_type": "code",
   "execution_count": 819,
   "id": "6c36d869-5206-467f-b315-270737a6c8ee",
   "metadata": {},
   "outputs": [],
   "source": [
    "def get_soup_table(response, *args, **kwargs):\n",
    "    soup = BeautifulSoup(response.text, 'html.parser')\n",
    "    table = soup.find('table', *args, **kwargs)\n",
    "    return table\n",
    "\n",
    "def get_links(table, inclusion_word):\n",
    "    links = {}\n",
    "    for table_row in table.findAll('tr'):\n",
    "        for entry in table_row.findAll('td'):\n",
    "            text = entry.find('a')\n",
    "            if text is not None and inclusion_word in text['href']:\n",
    "                name, link = text.text, text['href']\n",
    "                name = name.replace(' ', '').replace('\\n', '')\n",
    "                links[name] = link\n",
    "\n",
    "    return links"
   ]
  },
  {
   "cell_type": "code",
   "execution_count": 820,
   "id": "d9c89635-fc62-440e-ad42-179b1c6e5e38",
   "metadata": {},
   "outputs": [
    {
     "name": "stdout",
     "output_type": "stream",
     "text": [
      "There are a total of 373 unique receptors\n"
     ]
    }
   ],
   "source": [
    "receptor_links = {}\n",
    "for url in urls:\n",
    "    response = requests.get(base + url)\n",
    "    table = get_soup_table(response)\n",
    "    links = get_links(table, 'familyId')\n",
    "    receptor_links.update(links)\n",
    "print(f'There are a total of {len(receptor_links)} unique receptors')"
   ]
  },
  {
   "cell_type": "markdown",
   "id": "64cba9d2-fd61-44ea-813a-ba4813ff0693",
   "metadata": {},
   "source": [
    "### Get complete data tables (pKd, pKi, etc)"
   ]
  },
  {
   "cell_type": "code",
   "execution_count": null,
   "id": "785a9862-af76-40cd-b71e-fc59fca8cf94",
   "metadata": {},
   "outputs": [],
   "source": [
    "def get_table(response, receptor_name, classes = ['agonists', 'antagonists'], uniprot_pattern = 'https://www.uniprot.org/uniprot/(.*)\",'):\n",
    "    temp = []\n",
    "    links = []\n",
    "    temp_class = []\n",
    "\n",
    "    soup = BeautifulSoup(response, 'html.parser')\n",
    "    \n",
    "    for class_ in classes:\n",
    "        table = soup.find('table', {'id': class_})\n",
    "\n",
    "        for table_row in table.findAll('tbody'):\n",
    "            for tr in table_row.findAll('td'):\n",
    "                text = tr.text.replace('\\n', '').replace(' ', '')\n",
    "                if len(text) > 0 and text != '⤷':\n",
    "                    temp.append(text)\n",
    "                for href in tr.findAll('a'):    \n",
    "                    try:\n",
    "                        if 'ligandId=' in href['href'] and ')' not in href['href']:\n",
    "                            links.append(href['href'].split('ligandId=')[1])\n",
    "                            temp_class.append(class_)\n",
    "                    except:\n",
    "                        continue\n",
    "        \n",
    "    results = {}\n",
    "    results['Name'] = [receptor_name] * len(links)\n",
    "    results['ID'] = links\n",
    "    results['Ligand'] = temp[::7]\n",
    "    results['Action'] = temp[2::7]\n",
    "    results['Value'] = temp[3::7]\n",
    "    results['Parameter'] = temp[4::7]\n",
    "    results['Uniprot'] = [re.findall(uniprot_pattern, response.decode())[0]] * len(links)\n",
    "    results['Class'] = temp_class\n",
    "    return pd.DataFrame(results)\n",
    "\n",
    "dataframes = []\n",
    "\n",
    "for receptor_name, link in receptor_links.items():\n",
    "    print(f'Now running {receptor_name}')\n",
    "    url = base + link\n",
    "    response = requests.get(url).content\n",
    "    try:\n",
    "        dataframes.append(get_table(response, receptor_name))\n",
    "    except Exception as e:\n",
    "        print(f'Error with {receptor_name} {e}')\n",
    "        continue\n",
    "    \n"
   ]
  },
  {
   "cell_type": "code",
   "execution_count": 873,
   "id": "2bbc8018-c557-4849-8a88-515cab13e851",
   "metadata": {},
   "outputs": [],
   "source": [
    "dataframe = pd.concat(dataframes)\n",
    "cleaning_index = [len(i) == 6 for i in dataframe.loc[:, 'Uniprot']]\n",
    "dataframe = dataframe[cleaning_index]\n",
    "dataframe.to_csv('gpcr.csv', index = False)"
   ]
  },
  {
   "cell_type": "markdown",
   "id": "ffcb4122-c0e3-4c59-88bb-5d8644c7f05d",
   "metadata": {},
   "source": [
    "### Get edge list of receptor ligands\n",
    "#### Note. This functionality is replaced in the section below that downloads all of the dataframse"
   ]
  },
  {
   "cell_type": "code",
   "execution_count": 877,
   "id": "07a78fb5-3c31-4277-9a14-1d238a355102",
   "metadata": {},
   "outputs": [],
   "source": [
    "edgelist = dataframe[['ID', 'Uniprot']].values\n",
    "unique_receptors = dataframe['Uniprot'].unique()\n",
    "unique_ligands = dataframe['ID'].unique()\n",
    "\n",
    "receptors = {}\n",
    "smiles, aa = {}, {}\n"
   ]
  },
  {
   "cell_type": "code",
   "execution_count": null,
   "id": "3bbfeb31-42ba-4745-8e1e-7bbb9038a09a",
   "metadata": {},
   "outputs": [],
   "source": [
    "\"\"\"def get_uniprot_ligand(url, patterns): # given a url of a receptor landing page\n",
    "    results = []\n",
    "    page = requests.get(url).content.decode()\n",
    "    for _, pattern in patterns.items():\n",
    "        results.append(re.findall(pattern, page))    \n",
    "    results[0] = [r for r in results[0] if r.isdigit()] # check to make sure is digit\n",
    "    results[1] = [r for r in results[1] if len(r) == 6]\n",
    "    return results\n",
    "\n",
    "for receptor, suffix in tqdm(receptor_links.items()): # iterate through each receptor\n",
    "    url = base + suffix # each receptor url\n",
    "    ids = get_uniprot_ligand(url, patterns) # get the ids \n",
    "    ligands_ids, receptors_ids = ids[0], ids[1] \n",
    "    edgelist.extend([(ligand, receptor) for ligand in ligands_ids for receptor in receptors_ids])\n",
    "    \n",
    "edgelist = list(set(edgelist))\n",
    "\"\"\"\n"
   ]
  },
  {
   "cell_type": "markdown",
   "id": "6c70a588-3c22-441d-acd0-beec6fe6574c",
   "metadata": {},
   "source": [
    "### For every unique receptor in edgelist, get fasta"
   ]
  },
  {
   "cell_type": "code",
   "execution_count": null,
   "id": "d587943a-45ca-419e-8f3a-37e1650d6458",
   "metadata": {},
   "outputs": [],
   "source": [
    "# given uniprot id, gives sequence\n",
    "def get_uniprot(uniprotid, prefix = 'https://www.uniprot.org/uniprot/', suffix = '.fasta'):    \n",
    "    fasta_url = prefix + uniprotid + suffix\n",
    "    return ''.join(requests.get(fasta_url).content.decode().split('\\n')[1:-1])\n",
    "receptor_sequences = {i: get_uniprot(i) for i in unique_receptors}\n"
   ]
  },
  {
   "cell_type": "markdown",
   "id": "6eb85c5d-b2c0-446f-9de3-48bc91ba2d48",
   "metadata": {},
   "source": [
    "### For every unique ligand in edgelist, get sequence/smiles"
   ]
  },
  {
   "cell_type": "code",
   "execution_count": null,
   "id": "43a52a07-5754-407a-9646-074f81b05d80",
   "metadata": {},
   "outputs": [],
   "source": [
    "def get_ligand_response(ligandid, prefix = 'https://www.guidetopharmacology.org/GRAC/LigandDisplayForward?tab=structure&ligandId=', suffix = ''):\n",
    "    ligand_url = prefix + ligandid + suffix\n",
    "    return requests.get(ligand_url)\n",
    "\n",
    "def get_ligand_aa(response):    \n",
    "    if 'Peptide Sequence' not in response.content.decode(): \n",
    "        return None       \n",
    "\n",
    "    table = get_soup_table(response, {'class': 'receptor_data_tables'})\n",
    "    for table_row in table.findAll('tr', {'class': 'info'}):\n",
    "        for entry in table_row.findAll('td', {'style':'text-align:left;'}):\n",
    "            if '-' in entry.text:\n",
    "                continue\n",
    "            return entry.text.replace(' ','').replace('\\n','')\n",
    "\n",
    "def get_ligand_smiles(response):\n",
    "    table = get_soup_table(response)\n",
    "    entries = [entry.text for entry in table.findAll('td', {'style':'text-align:left;'})]\n",
    "    \n",
    "    if len(entries) == 0:\n",
    "        return ''\n",
    "\n",
    "    return entries[1].replace(' ', '').replace('\\n', '')"
   ]
  },
  {
   "cell_type": "code",
   "execution_count": null,
   "id": "575de3f3-e620-41e7-bc58-bdf2b58652b4",
   "metadata": {},
   "outputs": [],
   "source": [
    "for ligandid in tqdm(unique_ligands):\n",
    "    response = get_ligand_response(ligandid)\n",
    "    temp = get_ligand_aa(response) # if aa, use aa\n",
    "    if not temp: # if not aa, get smiles\n",
    "        temp_smiles = get_ligand_smiles(response)\n",
    "        if temp_smiles == '':\n",
    "            continue\n",
    "        smiles[ligandid] = temp_smiles\n",
    "    else:\n",
    "        aa[ligandid] = temp"
   ]
  },
  {
   "cell_type": "markdown",
   "id": "f6afcedd-88a6-4dfa-bac6-2644c6a972a7",
   "metadata": {},
   "source": [
    "### Save and dump data"
   ]
  },
  {
   "cell_type": "code",
   "execution_count": null,
   "id": "23f02aac-7c72-4d2c-8978-63a99fbaec7f",
   "metadata": {},
   "outputs": [],
   "source": [
    "import pickle\n",
    "\n",
    "pickle.dump(receptor_sequences, open('receptors.pickle', 'wb'))\n",
    "pickle.dump(smiles, open('smiles.pickle', 'wb'))\n",
    "pickle.dump(aa, open('aa.pickle', 'wb'))"
   ]
  },
  {
   "cell_type": "code",
   "execution_count": 836,
   "id": "201a7ff6-b8bb-4f3f-b8fc-87b31b3ed77e",
   "metadata": {},
   "outputs": [],
   "source": []
  },
  {
   "cell_type": "code",
   "execution_count": null,
   "id": "8f6aca7e-a470-4c53-951f-b395f69f9cf7",
   "metadata": {},
   "outputs": [],
   "source": []
  },
  {
   "cell_type": "code",
   "execution_count": null,
   "id": "4c28b539-8e04-4ee8-a1f6-9c16c6a18e1f",
   "metadata": {},
   "outputs": [],
   "source": []
  }
 ],
 "metadata": {
  "kernelspec": {
   "display_name": "Python 3 (ipykernel)",
   "language": "python",
   "name": "python3"
  },
  "language_info": {
   "codemirror_mode": {
    "name": "ipython",
    "version": 3
   },
   "file_extension": ".py",
   "mimetype": "text/x-python",
   "name": "python",
   "nbconvert_exporter": "python",
   "pygments_lexer": "ipython3",
   "version": "3.8.10"
  }
 },
 "nbformat": 4,
 "nbformat_minor": 5
}
